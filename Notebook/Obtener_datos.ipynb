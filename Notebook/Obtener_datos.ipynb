{
 "cells": [
  {
   "cell_type": "code",
   "execution_count": 18,
   "metadata": {
    "id": "-bd0Nwq61Saw"
   },
   "outputs": [],
   "source": [
    "import pandas as pd\n",
    "import scraping as s"
   ]
  },
  {
   "cell_type": "markdown",
   "metadata": {
    "id": "uB45Tw3yxJfJ"
   },
   "source": [
    "# Generar un dataset de partidos"
   ]
  },
  {
   "cell_type": "code",
   "execution_count": 6,
   "metadata": {
    "id": "x9U3FLy7CW9W"
   },
   "outputs": [],
   "source": [
    "def resultados(Gol_local, Gol_visitante):\n",
    "  \"\"\"\n",
    "  Obtener el resultado del partido parraa el equipo local (V, E, D)\n",
    "\n",
    "  Args:\n",
    "    Gol_Local (list): Goles de los equipos locales\n",
    "    Gol_visitante (list): Goles de los equipos visitantes\n",
    "    \n",
    "  Returns:\n",
    "    Resultado (list): lista con los resultados (V, E, D)\n",
    "  \"\"\"\n",
    "  Resultado = []\n",
    "  for i, j in zip(Gol_local, Gol_visitante):\n",
    "    if i > j:\n",
    "      Resultado.append('V')\n",
    "    elif i < j:\n",
    "      Resultado.append('D')\n",
    "    else:\n",
    "      Resultado.append('E')\n",
    "  return Resultado"
   ]
  },
  {
   "cell_type": "code",
   "execution_count": 5,
   "metadata": {
    "id": "HyYx4r9mzE_k"
   },
   "outputs": [],
   "source": [
    "temporada = '2023-2024'\n",
    "Liga = {'La-Liga':12, 'Premier-League':9, 'Serie-A':11, 'Ligue-1':13, 'Bundesliga':20}"
   ]
  },
  {
   "cell_type": "code",
   "execution_count": 17,
   "metadata": {},
   "outputs": [],
   "source": [
    "def PartidosJugados(url, Liga):\n",
    "    \"\"\"\n",
    "    WebScrapping de los partidos\n",
    "\n",
    "    Args:\n",
    "        url (str): url para obtener los partidos\n",
    "\n",
    "    Returns:\n",
    "        df (Dataframe): df con partidos faltantes\n",
    "    \"\"\"\n",
    "    #Obtener tabla de partidos\n",
    "    df = s.WebScrapingPartidos(url, Liga)\n",
    "    #Agregar resultado (V, E, D)\n",
    "    df['resultado'] = resultados(df.Gol_local, df.Gol_visitante)\n",
    "    #Eliminar columna innecesaria\n",
    "    df.drop('Marcador', axis=1, inplace=True)\n",
    "    return df"
   ]
  },
  {
   "cell_type": "code",
   "execution_count": null,
   "metadata": {},
   "outputs": [],
   "source": [
    "df_dict = {}\n",
    "for i in Liga:\n",
    "    url = f'https://fbref.com/es/comps/{Liga[i]}/{temporada}/horario/Marcadores-y-partidos-de-{temporada}-{i}'\n",
    "    df = PartidosJugados(url, i)\n",
    "    df_dict[f'df_{i}'] = df\n",
    "\n",
    "partidos = pd.concat(df_dict.values(), ignore_index=True)\n",
    "\n",
    "partidos.head(15)"
   ]
  },
  {
   "cell_type": "code",
   "execution_count": 8,
   "metadata": {
    "id": "ze2N5sqUNgoa"
   },
   "outputs": [],
   "source": [
    "ruta = '../Data/partidos.csv'\n",
    "partidos.to_csv(ruta, index=False)"
   ]
  },
  {
   "cell_type": "markdown",
   "metadata": {
    "id": "b6unpiZAxOdE"
   },
   "source": [
    "# Generar in dataset de puntuacion ELO de acuerdo a [Elo.com](http://clubelo.com/API)"
   ]
  },
  {
   "cell_type": "code",
   "execution_count": 13,
   "metadata": {
    "id": "6ffh-jeQaKJd"
   },
   "outputs": [],
   "source": [
    "años = partidos.Fecha.unique().strftime('%Y-%m-%d')\n",
    "Ligas = ['ENG', 'GER', 'ESP', 'ITA', 'FRA']\n",
    "\n",
    "df_dict2 = {}\n",
    "\n",
    "for i in años:\n",
    "    url = f'http://api.clubelo.com/{i}'\n",
    "    df = s.WebScrapingElo(url, Ligas, i)\n",
    "    df_dict2[f'df_{i}'] = df\n",
    "\n",
    "Puntuacion = pd.concat(df_dict2.values(), ignore_index=True)"
   ]
  },
  {
   "cell_type": "code",
   "execution_count": 15,
   "metadata": {
    "colab": {
     "base_uri": "https://localhost:8080/",
     "height": 423
    },
    "executionInfo": {
     "elapsed": 225,
     "status": "ok",
     "timestamp": 1726806731368,
     "user": {
      "displayName": "Andres Felipe Guzman Garcia",
      "userId": "16140926299343749092"
     },
     "user_tz": 300
    },
    "id": "Qj5cTGICrBN4",
    "outputId": "a758791c-0d47-464b-8bd4-f7ad124b56bd"
   },
   "outputs": [
    {
     "data": {
      "text/html": [
       "<div>\n",
       "<style scoped>\n",
       "    .dataframe tbody tr th:only-of-type {\n",
       "        vertical-align: middle;\n",
       "    }\n",
       "\n",
       "    .dataframe tbody tr th {\n",
       "        vertical-align: top;\n",
       "    }\n",
       "\n",
       "    .dataframe thead th {\n",
       "        text-align: right;\n",
       "    }\n",
       "</style>\n",
       "<table border=\"1\" class=\"dataframe\">\n",
       "  <thead>\n",
       "    <tr style=\"text-align: right;\">\n",
       "      <th></th>\n",
       "      <th>Club</th>\n",
       "      <th>Elo</th>\n",
       "      <th>Fecha</th>\n",
       "    </tr>\n",
       "  </thead>\n",
       "  <tbody>\n",
       "    <tr>\n",
       "      <th>0</th>\n",
       "      <td>Manchester City</td>\n",
       "      <td>2077.252197</td>\n",
       "      <td>2023-08-11</td>\n",
       "    </tr>\n",
       "    <tr>\n",
       "      <th>1</th>\n",
       "      <td>Liverpool</td>\n",
       "      <td>1946.900024</td>\n",
       "      <td>2023-08-11</td>\n",
       "    </tr>\n",
       "    <tr>\n",
       "      <th>2</th>\n",
       "      <td>Bayern Munich</td>\n",
       "      <td>1935.604248</td>\n",
       "      <td>2023-08-11</td>\n",
       "    </tr>\n",
       "    <tr>\n",
       "      <th>3</th>\n",
       "      <td>Arsenal</td>\n",
       "      <td>1919.369019</td>\n",
       "      <td>2023-08-11</td>\n",
       "    </tr>\n",
       "    <tr>\n",
       "      <th>4</th>\n",
       "      <td>Real Madrid</td>\n",
       "      <td>1906.480347</td>\n",
       "      <td>2023-08-11</td>\n",
       "    </tr>\n",
       "    <tr>\n",
       "      <th>...</th>\n",
       "      <td>...</td>\n",
       "      <td>...</td>\n",
       "      <td>...</td>\n",
       "    </tr>\n",
       "    <tr>\n",
       "      <th>17755</th>\n",
       "      <td>Lorient</td>\n",
       "      <td>1553.590698</td>\n",
       "      <td>2024-02-07</td>\n",
       "    </tr>\n",
       "    <tr>\n",
       "      <th>17756</th>\n",
       "      <td>Nantes</td>\n",
       "      <td>1544.605835</td>\n",
       "      <td>2024-02-07</td>\n",
       "    </tr>\n",
       "    <tr>\n",
       "      <th>17757</th>\n",
       "      <td>Almería</td>\n",
       "      <td>1536.975830</td>\n",
       "      <td>2024-02-07</td>\n",
       "    </tr>\n",
       "    <tr>\n",
       "      <th>17758</th>\n",
       "      <td>Metz</td>\n",
       "      <td>1532.317505</td>\n",
       "      <td>2024-02-07</td>\n",
       "    </tr>\n",
       "    <tr>\n",
       "      <th>17759</th>\n",
       "      <td>Darmstadt 98</td>\n",
       "      <td>1527.865234</td>\n",
       "      <td>2024-02-07</td>\n",
       "    </tr>\n",
       "  </tbody>\n",
       "</table>\n",
       "<p>17760 rows × 3 columns</p>\n",
       "</div>"
      ],
      "text/plain": [
       "                  Club          Elo       Fecha\n",
       "0      Manchester City  2077.252197  2023-08-11\n",
       "1            Liverpool  1946.900024  2023-08-11\n",
       "2        Bayern Munich  1935.604248  2023-08-11\n",
       "3              Arsenal  1919.369019  2023-08-11\n",
       "4          Real Madrid  1906.480347  2023-08-11\n",
       "...                ...          ...         ...\n",
       "17755          Lorient  1553.590698  2024-02-07\n",
       "17756           Nantes  1544.605835  2024-02-07\n",
       "17757          Almería  1536.975830  2024-02-07\n",
       "17758             Metz  1532.317505  2024-02-07\n",
       "17759     Darmstadt 98  1527.865234  2024-02-07\n",
       "\n",
       "[17760 rows x 3 columns]"
      ]
     },
     "execution_count": 15,
     "metadata": {},
     "output_type": "execute_result"
    }
   ],
   "source": [
    "Puntuacion.head()"
   ]
  },
  {
   "cell_type": "code",
   "execution_count": 16,
   "metadata": {
    "id": "5WAavTGNsAjG"
   },
   "outputs": [],
   "source": [
    "ruta2 = '../Data/puntuacion.csv'\n",
    "Puntuacion.to_csv(ruta2, index=False)"
   ]
  }
 ],
 "metadata": {
  "colab": {
   "authorship_tag": "ABX9TyO0H/N5B9hXNvjpZzkH9T0Y",
   "mount_file_id": "1krjGgUlSuiTHxaczuKnD0ChLFY1XNb_Q",
   "provenance": []
  },
  "kernelspec": {
   "display_name": "Python 3",
   "name": "python3"
  },
  "language_info": {
   "codemirror_mode": {
    "name": "ipython",
    "version": 3
   },
   "file_extension": ".py",
   "mimetype": "text/x-python",
   "name": "python",
   "nbconvert_exporter": "python",
   "pygments_lexer": "ipython3",
   "version": "3.12.8"
  }
 },
 "nbformat": 4,
 "nbformat_minor": 0
}
